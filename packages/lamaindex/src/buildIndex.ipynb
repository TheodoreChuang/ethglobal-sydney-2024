{
    "cells": [
        {
            "cell_type": "code",
            "execution_count": 1,
            "id": "f1a9eb90-335c-4214-8bb6-fd1edbe3ccbd",
            "metadata": {},
            "outputs": [],
            "source": [
                "# My OpenAI Key\n",
                "import os\n",
                "os.environ['OPENAI_API_KEY'] = \"YOUR GTP KEY HERE\""
            ]
        },
        {
            "cell_type": "code",
            "execution_count": 2,
            "id": "6a712b56",
            "metadata": {},
            "outputs": [],
            "source": [
                "import logging\n",
                "import sys\n",
                "\n",
                "logging.basicConfig(stream=sys.stdout, level=logging.INFO)\n",
                "logging.getLogger().addHandler(logging.StreamHandler(stream=sys.stdout))"
            ]
        },
        {
            "attachments": {},
            "cell_type": "markdown",
            "id": "be3f7baa-1c0a-430b-981b-83ddca9e71f2",
            "metadata": {
                "tags": []
            },
            "source": [
                "## Using GPT Tree Index"
            ]
        },
        {
            "attachments": {},
            "cell_type": "markdown",
            "id": "0881f151-279e-4910-95c7-f49d3d6a4c69",
            "metadata": {},
            "source": [
                "#### [Demo] Default leaf traversal "
            ]
        },
        {
            "cell_type": "code",
            "execution_count": 3,
            "id": "8d0b2364-4806-4656-81e7-3f6e4b910b5b",
            "metadata": {},
            "outputs": [],
            "source": [
                "from llama_index.core import GPTTreeIndex, SimpleDirectoryReader\n",
                "from IPython.display import Markdown, display"
            ]
        },
        {
            "cell_type": "code",
            "execution_count": 4,
            "id": "1c297fd3-3424-41d8-9d0d-25fe6310ab62",
            "metadata": {
                "tags": []
            },
            "outputs": [],
            "source": [
                "documents = SimpleDirectoryReader('../data').load_data()"
            ]
        },
        {
            "cell_type": "code",
            "execution_count": 5,
            "id": "370fd08f-56ff-4c24-b0c4-c93116a6d482",
            "metadata": {
                "tags": []
            },
            "outputs": [],
            "source": [
                "new_index = GPTTreeIndex.from_documents(documents)"
            ]
        },
        {
            "cell_type": "code",
            "execution_count": 6,
            "id": "4b23044b",
            "metadata": {},
            "outputs": [],
            "source": [
                "new_index.storage_context.persist(persist_dir=\"../index/ai_index\")"
            ]
        },
        {
            "cell_type": "code",
            "execution_count": 7,
            "id": "b7de4b74",
            "metadata": {},
            "outputs": [
                {
                    "name": "stdout",
                    "output_type": "stream",
                    "text": [
                        "INFO:llama_index.core.indices.loading:Loading all indices.\n",
                        "Loading all indices.\n"
                    ]
                }
            ],
            "source": [
                "from llama_index.core import StorageContext, load_index_from_storage\n",
                "\n",
                "# rebuild storage context\n",
                "storage_context = StorageContext.from_defaults(persist_dir=\"../index/ai_index\")\n",
                "\n",
                "# load index\n",
                "index = load_index_from_storage(storage_context)"
            ]
        },
        {
            "cell_type": "code",
            "execution_count": 10,
            "id": "bd14686d-1c53-4637-9340-3745f2121ae2",
            "metadata": {},
            "outputs": [
                {
                    "name": "stdout",
                    "output_type": "stream",
                    "text": [
                        "INFO:httpx:HTTP Request: POST https://api.openai.com/v1/chat/completions \"HTTP/1.1 200 OK\"\n",
                        "HTTP Request: POST https://api.openai.com/v1/chat/completions \"HTTP/1.1 200 OK\"\n"
                    ]
                }
            ],
            "source": [
                "# set Logging to DEBUG for more detailed outputs\n",
                "query_engine = index.as_query_engine()\n",
                "response = query_engine.query(\"how do i use it? in a simple sentence.\")"
            ]
        },
        {
            "cell_type": "code",
            "execution_count": 11,
            "id": "b4c87d14-d2d8-4d80-89f6-1e5972973528",
            "metadata": {},
            "outputs": [
                {
                    "data": {
                        "text/markdown": [
                            "<b>You can use the platform by verifying your identity through Worldcoin's IDkit, ensuring only approved recipients receive funds, and tracking payments transparently through smart contracts on the blockchain.</b>"
                        ],
                        "text/plain": [
                            "<IPython.core.display.Markdown object>"
                        ]
                    },
                    "metadata": {},
                    "output_type": "display_data"
                }
            ],
            "source": [
                "display(Markdown(f\"<b>{response}</b>\"))"
            ]
        }
    ],
    "metadata": {
        "kernelspec": {
            "display_name": "Python 3 (ipykernel)",
            "language": "python",
            "name": "python3"
        },
        "language_info": {
            "codemirror_mode": {
                "name": "ipython",
                "version": 3
            },
            "file_extension": ".py",
            "mimetype": "text/x-python",
            "name": "python",
            "nbconvert_exporter": "python",
            "pygments_lexer": "ipython3",
            "version": "3.10.14"
        }
    },
    "nbformat": 4,
    "nbformat_minor": 5
}
